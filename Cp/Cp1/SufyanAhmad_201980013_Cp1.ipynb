{
 "cells": [
  {
   "cell_type": "markdown",
   "id": "ac5943a4",
   "metadata": {},
   "source": [
    "# Sufyan Ahmad_201980013_Computer Vision_Assignment 01\n"
   ]
  },
  {
   "cell_type": "code",
   "execution_count": 1,
   "id": "6f18e665",
   "metadata": {},
   "outputs": [],
   "source": [
    "from PIL import Image"
   ]
  },
  {
   "cell_type": "code",
   "execution_count": 2,
   "id": "46b50301",
   "metadata": {},
   "outputs": [],
   "source": [
    "# Open the image\n",
    "image = Image.open('images.jpeg')\n",
    "image.show()"
   ]
  },
  {
   "cell_type": "code",
   "execution_count": 3,
   "id": "f140173d",
   "metadata": {},
   "outputs": [],
   "source": [
    "# Access the pixel data\n",
    "pixels = image.load()\n",
    "\n",
    "# Invert the image\n",
    "for i in range(image.size[0]):\n",
    "    for j in range(image.size[1]):\n",
    "        r, g, b = pixels[i, j]\n",
    "        inverted_r = 255 - r\n",
    "        inverted_g = 255 - g\n",
    "        inverted_b = 255 - b\n",
    "        pixels[i, j] = (inverted_r, inverted_g, inverted_b)"
   ]
  },
  {
   "cell_type": "code",
   "execution_count": 4,
   "id": "3a1bb840",
   "metadata": {},
   "outputs": [],
   "source": [
    "\n",
    "# Save and display the inverted image\n",
    "image.save(\"inverted.jpg\")\n",
    "image.show()"
   ]
  },
  {
   "cell_type": "code",
   "execution_count": 5,
   "id": "952cdd80",
   "metadata": {},
   "outputs": [],
   "source": [
    "\n",
    "# Darken the image\n",
    "darken_factor = 0.5\n",
    "for i in range(image.size[0]):\n",
    "    for j in range(image.size[1]):\n",
    "        r, g, b = pixels[i, j]\n",
    "        darkened_r = int(r * darken_factor)\n",
    "        darkened_g = int(g * darken_factor)\n",
    "        darkened_b = int(b * darken_factor)\n",
    "        pixels[i, j] = (darkened_r, darkened_g, darkened_b)"
   ]
  },
  {
   "cell_type": "code",
   "execution_count": 6,
   "id": "3c7585db",
   "metadata": {},
   "outputs": [],
   "source": [
    "# Save and display the darkened image\n",
    "image.save(\"darkened.jpg\")\n",
    "image.show()"
   ]
  },
  {
   "cell_type": "code",
   "execution_count": 7,
   "id": "62887431",
   "metadata": {},
   "outputs": [],
   "source": [
    "# Lighten the image\n",
    "lighten_factor = 1.5\n",
    "for i in range(image.size[0]):\n",
    "    for j in range(image.size[1]):\n",
    "        r, g, b = pixels[i, j]\n",
    "        lightened_r = min(int(r * lighten_factor), 255)\n",
    "        lightened_g = min(int(g * lighten_factor), 255)\n",
    "        lightened_b = min(int(b * lighten_factor), 255)\n",
    "        pixels[i, j] = (lightened_r, lightened_g, lightened_b)"
   ]
  },
  {
   "cell_type": "code",
   "execution_count": 8,
   "id": "df3648df",
   "metadata": {},
   "outputs": [],
   "source": [
    "# Save and display the lightened image\n",
    "image.save(\"lightened.jpg\")\n",
    "image.show()"
   ]
  },
  {
   "cell_type": "code",
   "execution_count": 9,
   "id": "7975f551",
   "metadata": {},
   "outputs": [],
   "source": [
    "# Increase contrast in the image\n",
    "contrast_factor = 2.0\n",
    "for i in range(image.size[0]):\n",
    "    for j in range(image.size[1]):\n",
    "        r, g, b = pixels[i, j]\n",
    "        contrast_r = int((r - 127.5) * contrast_factor + 127.5)\n",
    "        contrast_g = int((g - 127.5) * contrast_factor + 127.5)\n",
    "        contrast_b = int((b - 127.5) * contrast_factor + 127.5)\n",
    "        pixels[i, j] = (contrast_r, contrast_g, contrast_b)"
   ]
  },
  {
   "cell_type": "code",
   "execution_count": 10,
   "id": "9259c749",
   "metadata": {},
   "outputs": [],
   "source": [
    "# Save and display the image with increased contrast\n",
    "image.save(\"high_contrast.jpg\")\n",
    "image.show()"
   ]
  }
 ],
 "metadata": {
  "kernelspec": {
   "display_name": "Python 3 (ipykernel)",
   "language": "python",
   "name": "python3"
  },
  "language_info": {
   "codemirror_mode": {
    "name": "ipython",
    "version": 3
   },
   "file_extension": ".py",
   "mimetype": "text/x-python",
   "name": "python",
   "nbconvert_exporter": "python",
   "pygments_lexer": "ipython3",
   "version": "3.10.4"
  }
 },
 "nbformat": 4,
 "nbformat_minor": 5
}
